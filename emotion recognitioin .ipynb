{
 "cells": [
  {
   "cell_type": "code",
   "execution_count": 1,
   "metadata": {},
   "outputs": [],
   "source": [
    "import numpy as np\n",
    "import os\n",
    "import glob\n",
    "import pickle\n",
    "import soundfile , librosa\n",
    "from sklearn.model_selection import train_test_split\n",
    "from sklearn.neural_network import MLPClassifier\n",
    "from sklearn.metrics import accuracy_score"
   ]
  },
  {
   "cell_type": "code",
   "execution_count": 2,
   "metadata": {},
   "outputs": [],
   "source": [
    "# creating a function to extract the features of the audio file"
   ]
  },
  {
   "cell_type": "code",
   "execution_count": 3,
   "metadata": {},
   "outputs": [],
   "source": [
    "    def feature_extractor(file, mfcc, chroma, mel):\n",
    "        with soundfile.SoundFile(file) as sound_file:\n",
    "            file_array = sound_file.read(dtype=\"float32\")\n",
    "            sample_rate=sound_file.samplerate\n",
    "            result=np.array([])\n",
    "            if mfcc:\n",
    "                mfccs=np.mean(librosa.feature.mfcc(y=file_array, sr=sample_rate, n_mfcc=40).T, axis=0)\n",
    "                result=np.hstack((result, mfccs))\n",
    "            if chroma:\n",
    "                stft=np.abs(librosa.stft(file_array))\n",
    "                chroma=np.mean(librosa.feature.chroma_stft(S=stft, sr=sample_rate).T,axis=0)\n",
    "                result=np.hstack((result, chroma))\n",
    "            if mel:\n",
    "                mel=np.mean(librosa.feature.melspectrogram(file_array, sr=sample_rate).T,axis=0)\n",
    "                result=np.hstack((result, mel))\n",
    "        return result"
   ]
  },
  {
   "cell_type": "code",
   "execution_count": 4,
   "metadata": {},
   "outputs": [],
   "source": [
    "# emotions labels coding and defining the emotions to be observed"
   ]
  },
  {
   "cell_type": "code",
   "execution_count": 5,
   "metadata": {},
   "outputs": [],
   "source": [
    "    emotions={\n",
    "      '01':'neutral',\n",
    "      '02':'calm',\n",
    "      '03':'happy',\n",
    "      '04':'sad',\n",
    "      '05':'angry',\n",
    "      '06':'fearful',\n",
    "      '07':'disgust',\n",
    "      '08':'surprised'\n",
    "    }\n",
    "    observed_emotions=['calm', 'happy', 'fearful', 'disgust']"
   ]
  },
  {
   "cell_type": "code",
   "execution_count": 6,
   "metadata": {},
   "outputs": [],
   "source": [
    "# a function to load the data and extract the features and splitting the data into train and text"
   ]
  },
  {
   "cell_type": "code",
   "execution_count": 7,
   "metadata": {},
   "outputs": [],
   "source": [
    "    def data_loarder(test_size=0.25):\n",
    "        x,y=[],[]\n",
    "        for file in glob.glob(\"Actor_*\\\\*.wav\"):\n",
    "            file_name=os.path.basename(file)\n",
    "            emotion=emotions[file_name.split(\"-\")[2]]\n",
    "            if emotion not in observed_emotions:\n",
    "                continue\n",
    "            feature=feature_extractor(file, mfcc=True, chroma=True, mel=True)\n",
    "            x.append(feature)\n",
    "            y.append(emotion)\n",
    "        return train_test_split(np.array(x), y, test_size=test_size)"
   ]
  },
  {
   "cell_type": "code",
   "execution_count": 8,
   "metadata": {},
   "outputs": [],
   "source": [
    "# calling the data_loader function and saving the train test split results"
   ]
  },
  {
   "cell_type": "code",
   "execution_count": 9,
   "metadata": {},
   "outputs": [],
   "source": [
    "    x_train,x_test,y_train,y_test=data_loarder(test_size=0.25)"
   ]
  },
  {
   "cell_type": "code",
   "execution_count": 10,
   "metadata": {},
   "outputs": [],
   "source": [
    "# loading the model"
   ]
  },
  {
   "cell_type": "code",
   "execution_count": 11,
   "metadata": {},
   "outputs": [],
   "source": [
    "    classifier=MLPClassifier(alpha=0.01, batch_size=400, epsilon=1e-09, hidden_layer_sizes=(650,), learning_rate='adaptive', max_iter=400)"
   ]
  },
  {
   "cell_type": "code",
   "execution_count": 12,
   "metadata": {},
   "outputs": [],
   "source": [
    "#training the model"
   ]
  },
  {
   "cell_type": "code",
   "execution_count": 13,
   "metadata": {},
   "outputs": [
    {
     "data": {
      "text/plain": [
       "MLPClassifier(activation='relu', alpha=0.01, batch_size=400, beta_1=0.9,\n",
       "              beta_2=0.999, early_stopping=False, epsilon=1e-09,\n",
       "              hidden_layer_sizes=(650,), learning_rate='adaptive',\n",
       "              learning_rate_init=0.001, max_iter=400, momentum=0.9,\n",
       "              n_iter_no_change=10, nesterovs_momentum=True, power_t=0.5,\n",
       "              random_state=None, shuffle=True, solver='adam', tol=0.0001,\n",
       "              validation_fraction=0.1, verbose=False, warm_start=False)"
      ]
     },
     "execution_count": 13,
     "metadata": {},
     "output_type": "execute_result"
    }
   ],
   "source": [
    "classifier.fit(x_train,y_train)"
   ]
  },
  {
   "cell_type": "code",
   "execution_count": 14,
   "metadata": {},
   "outputs": [],
   "source": [
    "# testing the model"
   ]
  },
  {
   "cell_type": "code",
   "execution_count": 15,
   "metadata": {},
   "outputs": [],
   "source": [
    "y_pred=classifier.predict(x_test)"
   ]
  },
  {
   "cell_type": "code",
   "execution_count": 16,
   "metadata": {},
   "outputs": [],
   "source": [
    "# the accuracy score of the model"
   ]
  },
  {
   "cell_type": "code",
   "execution_count": 17,
   "metadata": {},
   "outputs": [],
   "source": [
    "accuracy=accuracy_score(y_true=y_test, y_pred=y_pred)"
   ]
  },
  {
   "cell_type": "code",
   "execution_count": 18,
   "metadata": {},
   "outputs": [
    {
     "name": "stdout",
     "output_type": "stream",
     "text": [
      "0.703125\n"
     ]
    }
   ],
   "source": [
    "print(accuracy)"
   ]
  },
  {
   "cell_type": "code",
   "execution_count": null,
   "metadata": {},
   "outputs": [],
   "source": []
  }
 ],
 "metadata": {
  "kernelspec": {
   "display_name": "Python 3",
   "language": "python",
   "name": "python3"
  },
  "language_info": {
   "codemirror_mode": {
    "name": "ipython",
    "version": 3
   },
   "file_extension": ".py",
   "mimetype": "text/x-python",
   "name": "python",
   "nbconvert_exporter": "python",
   "pygments_lexer": "ipython3",
   "version": "3.7.3"
  }
 },
 "nbformat": 4,
 "nbformat_minor": 2
}
